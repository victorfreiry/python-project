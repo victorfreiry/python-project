{
 "cells": [
  {
   "cell_type": "code",
   "execution_count": 18,
   "id": "a9acd6f9-eb7b-48ee-8e13-e02585741c3e",
   "metadata": {},
   "outputs": [],
   "source": [
    "import pandas as pd\n",
    "from pathlib import Path"
   ]
  },
  {
   "cell_type": "code",
   "execution_count": 19,
   "id": "d01dc686-bdae-4338-a29c-ef028e59ae23",
   "metadata": {},
   "outputs": [],
   "source": [
    "csvpath = Path(\"budget_data.csv\")"
   ]
  },
  {
   "cell_type": "code",
   "execution_count": 22,
   "id": "767917a9-48f3-4062-aa4f-5539bbfb47f9",
   "metadata": {},
   "outputs": [],
   "source": [
    "dataframe = pd.read_csv(csvpath)"
   ]
  },
  {
   "cell_type": "code",
   "execution_count": 23,
   "id": "56b03682-5232-4a39-9f3b-5f2adb50eecd",
   "metadata": {},
   "outputs": [
    {
     "data": {
      "text/html": [
       "<div>\n",
       "<style scoped>\n",
       "    .dataframe tbody tr th:only-of-type {\n",
       "        vertical-align: middle;\n",
       "    }\n",
       "\n",
       "    .dataframe tbody tr th {\n",
       "        vertical-align: top;\n",
       "    }\n",
       "\n",
       "    .dataframe thead th {\n",
       "        text-align: right;\n",
       "    }\n",
       "</style>\n",
       "<table border=\"1\" class=\"dataframe\">\n",
       "  <thead>\n",
       "    <tr style=\"text-align: right;\">\n",
       "      <th></th>\n",
       "      <th>Date</th>\n",
       "      <th>Profit/Losses</th>\n",
       "    </tr>\n",
       "  </thead>\n",
       "  <tbody>\n",
       "    <tr>\n",
       "      <th>0</th>\n",
       "      <td>Jan-2010</td>\n",
       "      <td>867884</td>\n",
       "    </tr>\n",
       "    <tr>\n",
       "      <th>1</th>\n",
       "      <td>Feb-2010</td>\n",
       "      <td>984655</td>\n",
       "    </tr>\n",
       "    <tr>\n",
       "      <th>2</th>\n",
       "      <td>Mar-2010</td>\n",
       "      <td>322013</td>\n",
       "    </tr>\n",
       "    <tr>\n",
       "      <th>3</th>\n",
       "      <td>Apr-2010</td>\n",
       "      <td>-69417</td>\n",
       "    </tr>\n",
       "    <tr>\n",
       "      <th>4</th>\n",
       "      <td>May-2010</td>\n",
       "      <td>310503</td>\n",
       "    </tr>\n",
       "  </tbody>\n",
       "</table>\n",
       "</div>"
      ],
      "text/plain": [
       "       Date  Profit/Losses\n",
       "0  Jan-2010         867884\n",
       "1  Feb-2010         984655\n",
       "2  Mar-2010         322013\n",
       "3  Apr-2010         -69417\n",
       "4  May-2010         310503"
      ]
     },
     "execution_count": 23,
     "metadata": {},
     "output_type": "execute_result"
    }
   ],
   "source": [
    "dataframe.head()"
   ]
  },
  {
   "cell_type": "code",
   "execution_count": 24,
   "id": "48aff5c3-5902-422e-a92d-c1eb1a443baa",
   "metadata": {},
   "outputs": [],
   "source": [
    "total_months = dataframe.shape[0]\n",
    "#print(count_rows)"
   ]
  },
  {
   "cell_type": "code",
   "execution_count": 25,
   "id": "3e3909c4-911e-4c28-b118-cd9e6be871e7",
   "metadata": {},
   "outputs": [
    {
     "data": {
      "text/plain": [
       "0     867884\n",
       "1     984655\n",
       "2     322013\n",
       "3     -69417\n",
       "4     310503\n",
       "       ...  \n",
       "81    102685\n",
       "82    795914\n",
       "83     60988\n",
       "84    138230\n",
       "85    671099\n",
       "Name: Profit/Losses, Length: 86, dtype: int64"
      ]
     },
     "execution_count": 25,
     "metadata": {},
     "output_type": "execute_result"
    }
   ],
   "source": [
    "dataframe['Profit/Losses']"
   ]
  },
  {
   "cell_type": "code",
   "execution_count": 34,
   "id": "d99c05ee-2d0b-4bdc-88f5-7050c3f9e512",
   "metadata": {},
   "outputs": [],
   "source": [
    "dataframe['average_change_shifted'] = dataframe['Profit/Losses'].shift(1)\n",
    "dataframe['difference'] = dataframe['Profit/Losses'] - dataframe['average_change_shifted']\n",
    "dataframe['total'] = dataframe['Profit/Losses'].sum()"
   ]
  },
  {
   "cell_type": "code",
   "execution_count": 35,
   "id": "42d9dfb7-64e9-4ff1-9b8c-c2264908bc72",
   "metadata": {},
   "outputs": [
    {
     "name": "stdout",
     "output_type": "stream",
     "text": [
      "0     38382578\n",
      "1     38382578\n",
      "2     38382578\n",
      "3     38382578\n",
      "4     38382578\n",
      "        ...   \n",
      "81    38382578\n",
      "82    38382578\n",
      "83    38382578\n",
      "84    38382578\n",
      "85    38382578\n",
      "Name: total, Length: 86, dtype: int64\n"
     ]
    }
   ],
   "source": [
    "print (dataframe['total'])"
   ]
  },
  {
   "cell_type": "code",
   "execution_count": 40,
   "id": "8e3f0da3-0813-44b5-9c3c-1dc686e2945c",
   "metadata": {},
   "outputs": [
    {
     "data": {
      "text/plain": [
       "38382578"
      ]
     },
     "execution_count": 40,
     "metadata": {},
     "output_type": "execute_result"
    }
   ],
   "source": [
    "dataframe['total'].iloc[0]"
   ]
  },
  {
   "cell_type": "code",
   "execution_count": 49,
   "id": "69ce49a0-5d31-4b71-9dfd-a62fddadd503",
   "metadata": {},
   "outputs": [
    {
     "data": {
      "text/plain": [
       "-2315.12"
      ]
     },
     "execution_count": 49,
     "metadata": {},
     "output_type": "execute_result"
    }
   ],
   "source": [
    "dataframe['difference'] \n",
    "round (dataframe['difference'].sum() / (total_months -1) , 2)"
   ]
  },
  {
   "cell_type": "code",
   "execution_count": 30,
   "id": "142aadcd-3433-4bdc-8822-2dadfc493e8f",
   "metadata": {},
   "outputs": [
    {
     "name": "stdout",
     "output_type": "stream",
     "text": [
      "0          NaN\n",
      "1     867884.0\n",
      "2     984655.0\n",
      "3     322013.0\n",
      "4     -69417.0\n",
      "        ...   \n",
      "81    768450.0\n",
      "82    102685.0\n",
      "83    795914.0\n",
      "84     60988.0\n",
      "85    138230.0\n",
      "Name: average_change_shifted, Length: 86, dtype: float64\n"
     ]
    }
   ],
   "source": [
    "print (dataframe['average_change_shifted'])"
   ]
  },
  {
   "cell_type": "code",
   "execution_count": 78,
   "id": "111acf8b-ea14-4d39-a3cc-7aa33594d077",
   "metadata": {},
   "outputs": [],
   "source": [
    "feb = int(dataframe.loc[dataframe['Date'] == \"Feb-2012\", ['Profit/Losses']] .iloc[0])\n",
    "# print (f\" {dataframe.loc[dataframe['Date'] == 'Feb-2012', ['Profit/Losses']] .iloc[0]}\")\n"
   ]
  },
  {
   "cell_type": "code",
   "execution_count": 79,
   "id": "04fdc63d-d467-463c-b5d6-aa40dc8607cc",
   "metadata": {},
   "outputs": [],
   "source": [
    "jan = int(dataframe.loc[dataframe['Date'] == \"Jan-2012\", ['Profit/Losses']] .iloc[0])"
   ]
  },
  {
   "cell_type": "code",
   "execution_count": 82,
   "id": "8c0fe02a-9ff5-4426-a3f2-6180bb24d951",
   "metadata": {},
   "outputs": [
    {
     "data": {
      "text/plain": [
       "1926159"
      ]
     },
     "execution_count": 82,
     "metadata": {},
     "output_type": "execute_result"
    }
   ],
   "source": [
    "feb - jan \n"
   ]
  },
  {
   "cell_type": "code",
   "execution_count": 84,
   "id": "6776d6c3-825e-41a5-9cd0-24fa8dd4181e",
   "metadata": {},
   "outputs": [],
   "source": [
    "sept_2013 = int(dataframe.loc[dataframe['Date'] == \"Sep-2013\", ['Profit/Losses']] .iloc[0])"
   ]
  },
  {
   "cell_type": "code",
   "execution_count": 85,
   "id": "a7a6b30a-c163-4302-9400-2ef4385ffda6",
   "metadata": {},
   "outputs": [],
   "source": [
    "aug_2013 =  int(dataframe.loc[dataframe['Date'] == \"Aug-2013\", ['Profit/Losses']] .iloc[0])"
   ]
  },
  {
   "cell_type": "code",
   "execution_count": 86,
   "id": "4ea9633b-3178-41ff-8181-4f2821f85937",
   "metadata": {},
   "outputs": [
    {
     "data": {
      "text/plain": [
       "-2196167"
      ]
     },
     "execution_count": 86,
     "metadata": {},
     "output_type": "execute_result"
    }
   ],
   "source": [
    "sept_2013 - aug_2013"
   ]
  },
  {
   "cell_type": "code",
   "execution_count": 99,
   "id": "4895e8b2-91af-4b79-8dd8-c485199fe063",
   "metadata": {},
   "outputs": [
    {
     "name": "stdout",
     "output_type": "stream",
     "text": [
      "Financial Analysis\n",
      "-----------------\n",
      "Total Months: = 86\n",
      "Total = 38382578\n",
      "Average Change: = $ -2315.12\n",
      "Greatest Increase in Profits: = $ (1926159)\n",
      "Greatest Decrease in Profits: = $ (-2196167)\n"
     ]
    }
   ],
   "source": [
    "#Financial Analysis\n",
    "#------------------\n",
    "\n",
    "months = f\"Total Months: = {total_months}\"\n",
    "total_amount = f\"Total = {dataframe['total'].iloc[0]}\"\n",
    "average_changes = f\"Average Change: = $ {round (dataframe['difference'].sum() / (total_months -1) , 2)}\" \n",
    "Greatest_Increase_Profits = f\"Greatest Increase in Profits: = $ ({feb - jan})\" \n",
    "Greatest_Decrease_Profit = f\"Greatest Decrease in Profits: = $ ({sept_2013 - aug_2013})\"\n",
    "\n",
    "\n",
    "\n",
    "\n",
    "print ('\\n'.join([\"Financial Analysis\",\"-----------------\",months,total_amount,average_changes,Greatest_Increase_Profits,Greatest_Decrease_Profit]))\n",
    "\n"
   ]
  },
  {
   "cell_type": "code",
   "execution_count": null,
   "id": "24a37fa2-b8ca-42b0-9bb1-0b029e6034f4",
   "metadata": {},
   "outputs": [],
   "source": []
  }
 ],
 "metadata": {
  "kernelspec": {
   "display_name": "Python 3",
   "language": "python",
   "name": "python3"
  },
  "language_info": {
   "codemirror_mode": {
    "name": "ipython",
    "version": 3
   },
   "file_extension": ".py",
   "mimetype": "text/x-python",
   "name": "python",
   "nbconvert_exporter": "python",
   "pygments_lexer": "ipython3",
   "version": "3.8.5"
  }
 },
 "nbformat": 4,
 "nbformat_minor": 5
}
