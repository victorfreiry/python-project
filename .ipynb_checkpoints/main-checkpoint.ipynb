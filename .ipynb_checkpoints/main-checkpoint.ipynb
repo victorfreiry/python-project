{
 "cells": [
  {
   "cell_type": "code",
   "execution_count": 6,
   "id": "a9acd6f9-eb7b-48ee-8e13-e02585741c3e",
   "metadata": {},
   "outputs": [],
   "source": [
    "import pandas as pd\n",
    "from pathlib import Path"
   ]
  },
  {
   "cell_type": "code",
   "execution_count": 10,
   "id": "d01dc686-bdae-4338-a29c-ef028e59ae23",
   "metadata": {},
   "outputs": [],
   "source": [
    "csvpath = Path(\"budget_data.csv\")"
   ]
  },
  {
   "cell_type": "code",
   "execution_count": 46,
   "id": "9186237d-2227-4fb2-b334-703440e47cc0",
   "metadata": {},
   "outputs": [],
   "source": [
    "#Variables\n",
    "csvpath = \"budget_data.csv\"     #path to the csv file\n",
    "nb_month = 0        # nb of month included in the dataset\n",
    "total = 0           # total net amount of profit/losses over the entire period\n",
    "months = []         # list of the months\n",
    "profits_losses = [] # list of the profits/losses\n",
    "changes = []        # changes"
   ]
  },
  {
   "cell_type": "code",
   "execution_count": 47,
   "id": "89481d33-0cc2-4d13-9086-09c242218907",
   "metadata": {},
   "outputs": [],
   "source": [
    "import csv\n",
    "with open('budget_data.csv') as csvfile:\n",
    "    reader = csv.reader(csvfile, delimiter=',',)\n",
    "    header = next(reader)\n",
    "    for row in reader:\n",
    "        nb_month+=1\n",
    "        total+=int (row[1])\n",
    "        average_change+=\n",
    "        \n"
   ]
  },
  {
   "cell_type": "code",
   "execution_count": 49,
   "id": "767917a9-48f3-4062-aa4f-5539bbfb47f9",
   "metadata": {},
   "outputs": [],
   "source": [
    "dataframe = pd.read_csv(csvpath)"
   ]
  },
  {
   "cell_type": "code",
   "execution_count": 50,
   "id": "56b03682-5232-4a39-9f3b-5f2adb50eecd",
   "metadata": {},
   "outputs": [
    {
     "data": {
      "text/html": [
       "<div>\n",
       "<style scoped>\n",
       "    .dataframe tbody tr th:only-of-type {\n",
       "        vertical-align: middle;\n",
       "    }\n",
       "\n",
       "    .dataframe tbody tr th {\n",
       "        vertical-align: top;\n",
       "    }\n",
       "\n",
       "    .dataframe thead th {\n",
       "        text-align: right;\n",
       "    }\n",
       "</style>\n",
       "<table border=\"1\" class=\"dataframe\">\n",
       "  <thead>\n",
       "    <tr style=\"text-align: right;\">\n",
       "      <th></th>\n",
       "      <th>Date</th>\n",
       "      <th>Profit/Losses</th>\n",
       "    </tr>\n",
       "  </thead>\n",
       "  <tbody>\n",
       "    <tr>\n",
       "      <th>0</th>\n",
       "      <td>Jan-2010</td>\n",
       "      <td>867884</td>\n",
       "    </tr>\n",
       "    <tr>\n",
       "      <th>1</th>\n",
       "      <td>Feb-2010</td>\n",
       "      <td>984655</td>\n",
       "    </tr>\n",
       "    <tr>\n",
       "      <th>2</th>\n",
       "      <td>Mar-2010</td>\n",
       "      <td>322013</td>\n",
       "    </tr>\n",
       "    <tr>\n",
       "      <th>3</th>\n",
       "      <td>Apr-2010</td>\n",
       "      <td>-69417</td>\n",
       "    </tr>\n",
       "    <tr>\n",
       "      <th>4</th>\n",
       "      <td>May-2010</td>\n",
       "      <td>310503</td>\n",
       "    </tr>\n",
       "  </tbody>\n",
       "</table>\n",
       "</div>"
      ],
      "text/plain": [
       "       Date  Profit/Losses\n",
       "0  Jan-2010         867884\n",
       "1  Feb-2010         984655\n",
       "2  Mar-2010         322013\n",
       "3  Apr-2010         -69417\n",
       "4  May-2010         310503"
      ]
     },
     "execution_count": 50,
     "metadata": {},
     "output_type": "execute_result"
    }
   ],
   "source": [
    "dataframe.head()"
   ]
  },
  {
   "cell_type": "code",
   "execution_count": 55,
   "id": "48aff5c3-5902-422e-a92d-c1eb1a443baa",
   "metadata": {},
   "outputs": [
    {
     "name": "stdout",
     "output_type": "stream",
     "text": [
      "86\n"
     ]
    }
   ],
   "source": [
    "total_months = dataframe.shape[0]\n",
    "print(count_rows)"
   ]
  },
  {
   "cell_type": "code",
   "execution_count": 60,
   "id": "3e3909c4-911e-4c28-b118-cd9e6be871e7",
   "metadata": {},
   "outputs": [
    {
     "data": {
      "text/plain": [
       "0     867884\n",
       "1     984655\n",
       "2     322013\n",
       "3     -69417\n",
       "4     310503\n",
       "       ...  \n",
       "81    102685\n",
       "82    795914\n",
       "83     60988\n",
       "84    138230\n",
       "85    671099\n",
       "Name: Profit/Losses, Length: 86, dtype: int64"
      ]
     },
     "execution_count": 60,
     "metadata": {},
     "output_type": "execute_result"
    }
   ],
   "source": [
    "dataframe['Profit/Losses']"
   ]
  },
  {
   "cell_type": "code",
   "execution_count": 62,
   "id": "d99c05ee-2d0b-4bdc-88f5-7050c3f9e512",
   "metadata": {},
   "outputs": [],
   "source": [
    "dataframe['average_change_shifted'] = dataframe['Profit/Losses'].shift(1)\n",
    "dataframe['difference'] = dataframe['Profit/Losses'] - dataframe['average_change_shifted']"
   ]
  },
  {
   "cell_type": "code",
   "execution_count": 66,
   "id": "69ce49a0-5d31-4b71-9dfd-a62fddadd503",
   "metadata": {},
   "outputs": [
    {
     "data": {
      "text/plain": [
       "-2288.1976744186045"
      ]
     },
     "execution_count": 66,
     "metadata": {},
     "output_type": "execute_result"
    }
   ],
   "source": [
    "dataframe['difference'] \n",
    "dataframe['difference'].sum() / total_months"
   ]
  },
  {
   "cell_type": "code",
   "execution_count": 58,
   "id": "142aadcd-3433-4bdc-8822-2dadfc493e8f",
   "metadata": {},
   "outputs": [
    {
     "name": "stdout",
     "output_type": "stream",
     "text": [
      "        Date  Profit/Losses\n",
      "0        NaN            NaN\n",
      "1   Jan-2010       867884.0\n",
      "2   Feb-2010       984655.0\n",
      "3   Mar-2010       322013.0\n",
      "4   Apr-2010       -69417.0\n",
      "..       ...            ...\n",
      "81  Sep-2016       768450.0\n",
      "82  Oct-2016       102685.0\n",
      "83  Nov-2016       795914.0\n",
      "84  Dec-2016        60988.0\n",
      "85  Jan-2017       138230.0\n",
      "\n",
      "[86 rows x 2 columns]\n"
     ]
    }
   ],
   "source": [
    "print(average_change_shifted)"
   ]
  },
  {
   "cell_type": "code",
   "execution_count": 67,
   "id": "4895e8b2-91af-4b79-8dd8-c485199fe063",
   "metadata": {},
   "outputs": [
    {
     "name": "stdout",
     "output_type": "stream",
     "text": [
      "Total Months: = 86\n",
      "Total = 38382578\n",
      "Average Change: = []\n"
     ]
    }
   ],
   "source": [
    "months = f\"Total Months: = {total_months}\"\n",
    "total_amount = f\"Total = {total}\"\n",
    "average_changes = f\"Average Change: = {changes}\" \n",
    "\n",
    "\n",
    "print ('\\n'.join([months, total_amount,average_changes]))\n",
    "\n",
    "#Total: $38382578\n",
    "#Average  Change: $-2315.12\n",
    "#Greatest Increase in Profits: Feb-2012 ($1926159)\n",
    "#Greatest Decrease in Profits: Sep-2013 ($-2196167)\n"
   ]
  },
  {
   "cell_type": "code",
   "execution_count": 41,
   "id": "13ea1e63-66ff-4c63-bc54-505d7a0f1e8b",
   "metadata": {},
   "outputs": [
    {
     "name": "stdout",
     "output_type": "stream",
     "text": [
      "Total Months: = 86\n"
     ]
    }
   ],
   "source": [
    "new_months = months\n",
    "print (new_months)"
   ]
  },
  {
   "cell_type": "code",
   "execution_count": null,
   "id": "24a37fa2-b8ca-42b0-9bb1-0b029e6034f4",
   "metadata": {},
   "outputs": [],
   "source": []
  }
 ],
 "metadata": {
  "kernelspec": {
   "display_name": "Python 3",
   "language": "python",
   "name": "python3"
  },
  "language_info": {
   "codemirror_mode": {
    "name": "ipython",
    "version": 3
   },
   "file_extension": ".py",
   "mimetype": "text/x-python",
   "name": "python",
   "nbconvert_exporter": "python",
   "pygments_lexer": "ipython3",
   "version": "3.8.5"
  }
 },
 "nbformat": 4,
 "nbformat_minor": 5
}
